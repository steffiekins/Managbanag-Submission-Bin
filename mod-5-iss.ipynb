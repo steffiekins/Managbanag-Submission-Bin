{
 "cells": [
  {
   "cell_type": "code",
   "execution_count": 1,
   "id": "66f588a2-b835-4ad3-a189-ce218202782e",
   "metadata": {},
   "outputs": [],
   "source": [
    "import matplotlib.pyplot as plt\n",
    "import json\n",
    "import time\n",
    "import requests\n",
    "import pandas as pd\n",
    "\n",
    "a = []\n",
    "\n",
    "for i in range(0,100):\n",
    "    x = requests.get(\"http://api.open-notify.org/iss-now.json\")\n",
    "    y = x.text\n",
    "    datapoint = json.loads(y)\n",
    "    a.append((datapoint['iss_position']['latitude'], datapoint['iss_position']['longitude']))\n",
    "    time.sleep(10)"
   ]
  },
  {
   "cell_type": "code",
   "execution_count": 8,
   "id": "483363a1-f188-4898-ae1f-7120580a1d4b",
   "metadata": {},
   "outputs": [
    {
     "data": {
      "text/plain": [
       "<AxesSubplot:xlabel='longitude', ylabel='latitude'>"
      ]
     },
     "execution_count": 8,
     "metadata": {},
     "output_type": "execute_result"
    },
    {
     "data": {
      "image/png": "[encoded data removed]",
      "text/plain": [
       "<Figure size 432x288 with 1 Axes>"
      ]
     },
     "metadata": {
      "needs_background": "light"
     },
     "output_type": "display_data"
    }
   ],
   "source": [
    "df=pd.DataFrame(a,columns=[\"latitude\",\"longitude\"])\n",
    "df = df.apply(pd.to_numeric)\n",
    "df.plot.scatter(x = 'longitude', y = 'latitude')"
   ]
  }
 ],
 "metadata": {
  "kernelspec": {
   "display_name": "Python 3 (ipykernel)",
   "language": "python",
   "name": "python3"
  },
  "language_info": {
   "codemirror_mode": {
    "name": "ipython",
    "version": 3
   },
   "file_extension": ".py",
   "mimetype": "text/x-python",
   "name": "python",
   "nbconvert_exporter": "python",
   "pygments_lexer": "ipython3",
   "version": "3.9.12"
  }
 },
 "nbformat": 4,
 "nbformat_minor": 5
}
